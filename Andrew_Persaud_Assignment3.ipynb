{
 "cells": [
  {
   "cell_type": "markdown",
   "metadata": {
    "id": "C4XBUwABcjrz"
   },
   "source": [
    "<a href=\"https://colab.research.google.com/drive/1GFHo8h-GfxxdPwWQhmbw5xJ4ckRznstB#scrollTo=C4XBUwABcjrz\" target=\"_parent\"><img src=\"https://colab.research.google.com/assets/colab-badge.svg\" alt=\"Open In Colab\"/></a>\n",
    "\n",
    "\\(\\^Be sure to update this button to point to your notebook instead of the sample notebook\\)"
   ]
  },
  {
   "cell_type": "code",
   "execution_count": 1,
   "metadata": {
    "id": "QqggSTPIcjr0"
   },
   "outputs": [],
   "source": [
    "# Imports section\n",
    "import pandas as pd\n",
    "import numpy as np\n",
    "from sklearn.model_selection import train_test_split\n",
    "from sklearn.linear_model import LinearRegression\n",
    "from sklearn.model_selection import cross_val_score\n",
    "from sklearn.preprocessing import PolynomialFeatures\n",
    "from sklearn.linear_model import Lasso"
   ]
  },
  {
   "cell_type": "markdown",
   "metadata": {
    "id": "-ljYRqGAcjr1"
   },
   "source": [
    "## Part 1. Loading the dataset"
   ]
  },
  {
   "cell_type": "code",
   "execution_count": 2,
   "metadata": {
    "id": "QQ-snc31cjr1"
   },
   "outputs": [
    {
     "name": "stdout",
     "output_type": "stream",
     "text": [
      "    Temperature °C  Mols KCL     Size nm^3\n",
      "0              469       647  6.244743e+05\n",
      "1              403       694  5.779610e+05\n",
      "2              302       975  6.196847e+05\n",
      "3              779       916  1.460449e+06\n",
      "4              901        18  4.325726e+04\n",
      "5              545       637  7.124634e+05\n",
      "6              660       519  7.006960e+05\n",
      "7              143       869  2.718260e+05\n",
      "8               89       461  8.919803e+04\n",
      "9              294       776  4.770210e+05\n",
      "10             991       117  2.441771e+05\n",
      "11             307       781  5.006455e+05\n",
      "12             206        70  3.145200e+04\n",
      "13             437       599  5.390215e+05\n",
      "14             566        75  9.185271e+04\n"
     ]
    }
   ],
   "source": [
    "# Using pandas load the dataset (load remotely, not locally)\n",
    "# Output the first 15 rows of the data\n",
    "# Display a summary of the table information (number of datapoints, etc.)\n",
    "c = pd.read_csv(\"https://raw.githubusercontent.com/profmcnich/example_notebook/main/science_data_large.csv\")\n",
    "print(c.head(15))"
   ]
  },
  {
   "cell_type": "markdown",
   "metadata": {
    "id": "UacgETKEcjr2"
   },
   "source": [
    "## Part 2. Splitting the dataset"
   ]
  },
  {
   "cell_type": "code",
   "execution_count": 3,
   "metadata": {
    "id": "bOjOzn7ocjr2",
    "scrolled": true
   },
   "outputs": [],
   "source": [
    "# Take the pandas dataset and split it into our features (X) and label (y)\n",
    "x = c.iloc[:,:-1].values\n",
    "y = c.iloc[:,-1].values\n",
    "# Use sklearn to split the features and labels into a training/test set. (90% train, 10% test)\n",
    "X_train, X_test, y_train, y_test = train_test_split(x, y, test_size=0.1)"
   ]
  },
  {
   "cell_type": "markdown",
   "metadata": {
    "id": "ZCjceT3vcjr3"
   },
   "source": [
    "## Part 3. Perform a Linear Regression"
   ]
  },
  {
   "cell_type": "code",
   "execution_count": 4,
   "metadata": {
    "id": "8KjlluiWcjr3"
   },
   "outputs": [
    {
     "name": "stdout",
     "output_type": "stream",
     "text": [
      "Predicted Output:  [245883.98167954]\n",
      "Score: 0.8445975399713469\n",
      "Y-Intercept:  -414023.13019679417\n",
      "Coefficients:  [ 874.71177905 1029.10435909]\n"
     ]
    }
   ],
   "source": [
    "# Use sklearn to train a model on the training set\n",
    "plot = LinearRegression()\n",
    "plot.fit(X_train, y_train)\n",
    "# Create a sample datapoint and predict the output of that sample with the trained model\n",
    "sample = np.array([[225, 450]])\n",
    "# Report on the score for that model, in your own words (markdown, not code) explain what the score means\n",
    "score = plot.score(X_test, y_test)\n",
    "# Extract the coefficents and intercept from the model and write an equation for your h(x) using LaTeX\n",
    "coefficents = plot.coef_\n",
    "intercept = plot.intercept_\n",
    "print(\"Predicted Output: \", plot.predict(sample))\n",
    "print(\"Score:\", score)\n",
    "print(\"Y-Intercept: \", intercept)\n",
    "print(\"Coefficients: \", coefficents)"
   ]
  },
  {
   "cell_type": "markdown",
   "metadata": {},
   "source": [
    "After following the instructions for part 3, a value of $0.85$ was what I got for score. Below shows a function $h(x)$ that can be formed when considering the coefficients as well as the intercept:\n",
    "$$h(x)=(860.68a)+(1031.16b)-409326.14$$"
   ]
  },
  {
   "cell_type": "markdown",
   "metadata": {
    "id": "yQjx5-_dcjr3"
   },
   "source": [
    "Sample equation: $E = mc^2$"
   ]
  },
  {
   "cell_type": "markdown",
   "metadata": {
    "id": "SMPnA5i8cjr4"
   },
   "source": [
    "## Part 4. Use Cross Validation"
   ]
  },
  {
   "cell_type": "code",
   "execution_count": 5,
   "metadata": {
    "id": "zmXriFOlcjr4",
    "scrolled": true
   },
   "outputs": [
    {
     "name": "stdout",
     "output_type": "stream",
     "text": [
      "[0.83918826 0.87051239 0.85871066 0.87202623 0.84364641]\n"
     ]
    }
   ],
   "source": [
    "# Use the cross_val_score function to repeat your experiment across many shuffles of the data\n",
    "score = cross_val_score(plot, x, y)\n",
    "print(score)\n",
    "# Report on their finding and their significance\n"
   ]
  },
  {
   "cell_type": "markdown",
   "metadata": {},
   "source": [
    "This function's purpose is to depict how accurate your model is in terms of compilation. Within the array above, we have an idea of how accurate the model is.  "
   ]
  },
  {
   "cell_type": "markdown",
   "metadata": {
    "id": "a9ZeDvyscjr5"
   },
   "source": [
    "## Part 5. Using Polynomial Regression"
   ]
  },
  {
   "cell_type": "code",
   "execution_count": 6,
   "metadata": {
    "id": "ki4t9jVAcjr5"
   },
   "outputs": [
    {
     "name": "stdout",
     "output_type": "stream",
     "text": [
      "Score : 0.9999999999901298\n",
      "Coefficients:  [ 0.00000000e+00  1.19853681e+01 -8.77140430e-03  1.22046745e-05\n",
      "  2.00000316e+00  2.85788000e-02]\n",
      "Intercept: 4.349099307262804\n"
     ]
    }
   ],
   "source": [
    "# Using the PolynomialFeatures library perform another regression on an augmented dataset of degree 2\n",
    "poly = PolynomialFeatures(degree=2)\n",
    "poly_X = poly.fit_transform(x)\n",
    "\n",
    "X_train, X_test, y_train, y_test = train_test_split(poly_X, y, test_size=0.1)\n",
    "\n",
    "model = Lasso()\n",
    "model.fit(X_train, y_train)\n",
    "\n",
    "score = model.score(X_test, y_test)\n",
    "print(\"Score :\", score)\n",
    "coefficents = model.coef_\n",
    "intercept = model.intercept_\n",
    "print(\"Coefficients: \", coefficents)\n",
    "print(\"Intercept:\", intercept)\n",
    "# Report on the metrics and output the resultant equation as you did in Part 3."
   ]
  },
  {
   "cell_type": "markdown",
   "metadata": {},
   "source": [
    "The score value here is almost 100 percent, which shows that the model is reliable. This represents a polynomial trend, such a model can be represented with the function below:\n",
    "$$h(x)=(4.26488 + (0*1)+(11.98 * a)+(-0.00835*b)+(0.00001216*a^2)+(2*ab)+(0,0285*b^2)$$"
   ]
  }
 ],
 "metadata": {
  "colab": {
   "name": "a3_sample_notebook.ipynb",
   "provenance": []
  },
  "kernelspec": {
   "display_name": "Python 3 (ipykernel)",
   "language": "python",
   "name": "python3"
  },
  "language_info": {
   "codemirror_mode": {
    "name": "ipython",
    "version": 3
   },
   "file_extension": ".py",
   "mimetype": "text/x-python",
   "name": "python",
   "nbconvert_exporter": "python",
   "pygments_lexer": "ipython3",
   "version": "3.9.7"
  }
 },
 "nbformat": 4,
 "nbformat_minor": 1
}
