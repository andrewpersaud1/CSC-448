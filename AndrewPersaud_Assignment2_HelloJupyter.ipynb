{
 "cells": [
  {
   "cell_type": "markdown",
   "id": "6545cf4e",
   "metadata": {},
   "source": [
    "## Andrew Persaud\n",
    "## 3-5-2022\n",
    "## Professor McNicholas\n",
    "\n",
    "Below happens to be a throwback project of mine. I remember when I made this code, it happened to be my first time fiddling around with tkinter. The reason why I wanted to import tkinter in a project like this, was because I wanted to add gui's to my projects which would give it that \"extra spice.\" In terms of what this project does, it is a dice roller. There are buttons presented when you run the program within a graphical user interface, and each time you click roll dice, a combination of two numbers being added is presented within your terminal. Overall, I did learn a lot about guis and keeping windows open when creating a game, that was one good takeaway from this project. "
   ]
  },
  {
   "cell_type": "code",
   "execution_count": null,
   "id": "19f9fb4b",
   "metadata": {},
   "outputs": [],
   "source": [
    "from tkinter import *\n",
    "import random\n",
    "\n",
    "class DrewsButton:\n",
    "    def __init__(self, master):                     #master is the root or main window for the gui\n",
    "        frame = Frame(master)\n",
    "        one = Label(root, text=\"Welcome to my dice simulator\", bg=\"black\", fg=\"white\")  #title on the top\n",
    "        one.pack(fill=Y)\n",
    "        frame.pack()\n",
    "\n",
    "        self.printButton =Button(frame, text=\"Roll dice \", bg=\"blue\", fg=\"white\", command=self.dicefunction) #colors, and text of the button\n",
    "        self.printButton.pack(side=LEFT)                                        #puts the button towards the left side\n",
    "\n",
    "        self.quitButton = Button(frame, text=\"Quit\",bg=\"black\", fg=\"red\", command=frame.quit)\n",
    "        self.quitButton.pack(side=LEFT)                                         #since something is already on the left of it, this goes on the right\n",
    "\n",
    "    def dicefunction(event):\n",
    "        rd1 = random.randint(1, 6)\n",
    "        rd2 = random.randint(1, 6)\n",
    "        roll = rd1 + rd2\n",
    "        print(f'Your first dice gave a result of: {rd1}')\n",
    "        print(f'Your second dice gave a result of: {rd2}')\n",
    "        print(f'Move {roll} spaces ')\n",
    "root = Tk()                                                     #this is a constructor and root creates a blank window\n",
    "b = DrewsButton(root)\n",
    "root.mainloop()                                                 #loops the window and allows it to keep the window open"
   ]
  },
  {
   "cell_type": "markdown",
   "id": "df0f22a0",
   "metadata": {},
   "source": [
    "![](https://c.tenor.com/IxOKsTesEogAAAAd/heimerdinger.gif)"
   ]
  },
  {
   "cell_type": "code",
   "execution_count": null,
   "id": "a80f82f5",
   "metadata": {},
   "outputs": [],
   "source": []
  },
  {
   "cell_type": "code",
   "execution_count": null,
   "id": "85d66a0c",
   "metadata": {},
   "outputs": [],
   "source": []
  }
 ],
 "metadata": {
  "kernelspec": {
   "display_name": "Python 3 (ipykernel)",
   "language": "python",
   "name": "python3"
  },
  "language_info": {
   "codemirror_mode": {
    "name": "ipython",
    "version": 3
   },
   "file_extension": ".py",
   "mimetype": "text/x-python",
   "name": "python",
   "nbconvert_exporter": "python",
   "pygments_lexer": "ipython3",
   "version": "3.9.7"
  }
 },
 "nbformat": 4,
 "nbformat_minor": 5
}
